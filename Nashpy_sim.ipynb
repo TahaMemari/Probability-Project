{
 "cells": [
  {
   "cell_type": "markdown",
   "metadata": {
    "id": "CzA5FLOyQz-8"
   },
   "source": [
    "ابتدا باید کتاب خانه \n",
    "\n",
    "nashpy  \n",
    "\n",
    "را نصب کنیم"
   ]
  },
  {
   "cell_type": "code",
   "execution_count": 3,
   "metadata": {
    "colab": {
     "base_uri": "https://localhost:8080/"
    },
    "id": "Z3w1pJyDQqBk",
    "outputId": "dd483f02-5a30-443f-f7b9-e63f4d50751f"
   },
   "outputs": [
    {
     "name": "stdout",
     "output_type": "stream",
     "text": [
      "Requirement already satisfied: nashpy in e:\\anaconda\\lib\\site-packages (0.0.37)\n",
      "Requirement already satisfied: numpy>=1.21.0 in e:\\anaconda\\lib\\site-packages (from nashpy) (1.22.4)\n",
      "Requirement already satisfied: scipy>=0.19.0 in e:\\anaconda\\lib\\site-packages (from nashpy) (1.6.2)\n",
      "Requirement already satisfied: networkx>=3.0.0 in e:\\anaconda\\lib\\site-packages (from nashpy) (3.1)\n"
     ]
    }
   ],
   "source": [
    "!pip install nashpy"
   ]
  },
  {
   "cell_type": "markdown",
   "metadata": {
    "id": "G4R68hRjO1Ac"
   },
   "source": [
    "با  چند دستور ابتدایی این کتابخانه شروع میکنیم و آنها را توضیح میدهیم ..."
   ]
  },
  {
   "cell_type": "markdown",
   "metadata": {
    "id": "SWklANnoPIOy"
   },
   "source": [
    "در این قسمت هر دو جدول بازیکن سطر وستون با یکدیگر برابر هستند"
   ]
  },
  {
   "cell_type": "code",
   "execution_count": 50,
   "metadata": {
    "colab": {
     "base_uri": "https://localhost:8080/"
    },
    "id": "7WWboFwmO-2I",
    "outputId": "9a71c119-1ee5-420d-fc58-4bfa5e23fcd1"
   },
   "outputs": [
    {
     "name": "stdout",
     "output_type": "stream",
     "text": [
      "Zero sum game with payoff matrices:\n",
      "\n",
      "Row player:\n",
      "[[ 0 -1  1]\n",
      " [ 1  0 -1]\n",
      " [-1  1  0]]\n",
      "\n",
      "Column player:\n",
      "[[ 0  1 -1]\n",
      " [-1  0  1]\n",
      " [ 1 -1  0]]\n"
     ]
    }
   ],
   "source": [
    "import nashpy as nash\n",
    "import numpy as np\n",
    "A = np.array([[0, -1, 1], [1, 0, -1], [-1, 1, 0]])\n",
    "rps = nash.Game(A)\n",
    "print(rps)"
   ]
  },
  {
   "cell_type": "markdown",
   "metadata": {
    "id": "6Rhi2Z0zPYPi"
   },
   "source": [
    "اگر ماتریس های دو بازیکن با یکدیگر برابر نباشند به صورت زیر میتوانیم انجام دهیم"
   ]
  },
  {
   "cell_type": "code",
   "execution_count": 51,
   "metadata": {
    "colab": {
     "base_uri": "https://localhost:8080/"
    },
    "id": "KikZjo2ZPeZq",
    "outputId": "38bb0f95-f3ff-4247-f9b3-0a19279a3324"
   },
   "outputs": [
    {
     "name": "stdout",
     "output_type": "stream",
     "text": [
      "Bi matrix game with payoff matrices:\n",
      "\n",
      "Row player:\n",
      "[[ 0 -1  1]\n",
      " [ 1  0 -1]\n",
      " [-1  1  0]]\n",
      "\n",
      "Column player:\n",
      "[[ 1  0  1]\n",
      " [ 1  1 -1]\n",
      " [-1  1 -1]]\n"
     ]
    }
   ],
   "source": [
    "B =np.array([[1, 0, 1], [1, 1, -1], [-1, 1, -1]])\n",
    "rps = nash.Game(A, B)\n",
    "print(rps)"
   ]
  },
  {
   "cell_type": "markdown",
   "metadata": {
    "id": "dDI-hCFHQB3U"
   },
   "source": [
    "برای به دست آوردن یوتیلیتی یک استراتژی از جدول به صورت زیر انجام میدهیم"
   ]
  },
  {
   "cell_type": "code",
   "execution_count": 52,
   "metadata": {
    "colab": {
     "base_uri": "https://localhost:8080/"
    },
    "id": "LADeejHqQBYr",
    "outputId": "72dadcb9-06f6-4421-c422-be4b43651238"
   },
   "outputs": [
    {
     "name": "stdout",
     "output_type": "stream",
     "text": [
      "[1 1]\n"
     ]
    }
   ],
   "source": [
    "sigma_r = [0, 0, 1]\n",
    "sigma_c = [0, 1, 0]\n",
    "print(rps[sigma_r, sigma_c])"
   ]
  },
  {
   "cell_type": "markdown",
   "metadata": {
    "id": "uGUZ4kdri222"
   },
   "source": [
    "حال میخواهیم با استفاده از این کتابخانه نقطه(نقاط) تعادل نش بازی سنگ کاغذ قیجی را که در قسمت اول دیدید را پیدا کنیم.\n",
    "یک بار با استفاده از\n",
    "\n",
    "game.support_enumeration \n",
    "\n",
    "و بارهای دیگر با استفاده از \n",
    "\n",
    "game.vertex_enumeration , Lemke Howson\n",
    "\n",
    "کد را پیاده سازی کنید. \n",
    "و در پایان با جستجو در اینترنت بگویید که تفاوت عملکرد این سه در جیست و خروجی هر سه را با هم مقایسه کنید.\n",
    "آیا خروجی یا \n",
    "\n",
    "pure strategy \n",
    "\n",
    "\n",
    "است یا\n",
    "\n",
    " mixed strategy?\n"
   ]
  },
  {
   "cell_type": "code",
   "execution_count": 13,
   "metadata": {},
   "outputs": [],
   "source": [
    "#==========================================================================================================#"
   ]
  },
  {
   "cell_type": "markdown",
   "metadata": {},
   "source": [
    "#   در سنگ کاغذ قیچی Nash Equilibrium بررسی "
   ]
  },
  {
   "cell_type": "code",
   "execution_count": 79,
   "metadata": {},
   "outputs": [
    {
     "name": "stdout",
     "output_type": "stream",
     "text": [
      "game.support_enumeration Method :\n",
      "[(array([0.33333333, 0.33333333, 0.33333333]), array([0.33333333, 0.33333333, 0.33333333]))]\n",
      "\n",
      "game.vertex_enumeration Mehtod :\n",
      "[(array([0.33333333, 0.33333333, 0.33333333]), array([0.33333333, 0.33333333, 0.33333333]))]\n",
      "\n",
      "game.lemke_howson Mehtod :\n",
      "[array([0.33333333, 0.33333333, 0.33333333]), array([0.33333333, 0.33333333, 0.33333333])]\n"
     ]
    }
   ],
   "source": [
    "RowPlayer =np.array([[0, -1, 1], [1, 0, -1], [-1, 0, 1]])\n",
    "ColumnPlayer =np.array([[0, 1, -1], [-1, 0, 1], [1, -1, 0]])\n",
    "\n",
    "\n",
    "#support_enumeration:\n",
    "game1 = nash.Game(RowPlayer,ColumnPlayer)\n",
    "eq1 = game1.support_enumeration()\n",
    "print(\"game.support_enumeration Method :\")\n",
    "print(list(eq1))\n",
    "print(\"\")\n",
    "\n",
    "\n",
    "#vertex_enumeration:\n",
    "game = nash.Game(RowPlayer, ColumnPlayer)\n",
    "eq2 = game.vertex_enumeration()\n",
    "print(\"game.vertex_enumeration Mehtod :\")\n",
    "print(list(eq2))\n",
    "print(\"\")\n",
    "\n",
    "    \n",
    "#lemke_howson:   \n",
    "game3 = nash.Game(RowPlayer,ColumnPlayer)\n",
    "eq3 = game3.lemke_howson(initial_dropped_label=0)\n",
    "print(\"game.lemke_howson Mehtod :\")\n",
    "print(list(eq3))\n"
   ]
  },
  {
   "cell_type": "code",
   "execution_count": 14,
   "metadata": {},
   "outputs": [],
   "source": [
    "#==========================================================================================================#"
   ]
  },
  {
   "cell_type": "code",
   "execution_count": 80,
   "metadata": {
    "colab": {
     "base_uri": "https://localhost:8080/"
    },
    "id": "1k1GB9mWi76a",
    "outputId": "c95a8f13-0dac-46d9-b82b-db80ade3037f"
   },
   "outputs": [
    {
     "data": {
      "text/plain": [
       "[(array([1., 0., 0.]), array([0., 0., 1.])),\n",
       " (array([0., 1., 0.]), array([1., 0., 0.])),\n",
       " (array([0., 0., 1.]), array([0., 1., 0.])),\n",
       " (array([0.66666667, 0.        , 0.33333333]),\n",
       "  array([0.        , 0.33333333, 0.66666667]))]"
      ]
     },
     "execution_count": 80,
     "metadata": {},
     "output_type": "execute_result"
    }
   ],
   "source": [
    "eqs = rps.support_enumeration()\n",
    "list(eqs)"
   ]
  },
  {
   "cell_type": "markdown",
   "metadata": {
    "id": "EiFiLdNwjmE8"
   },
   "source": [
    "همانطور که میبینیم آخرین دو آرایه آخر ایندکس های غیر صحیح دارند که این دو عبارتند از نقاط تعادل میکس شده .\n",
    "که همان عبارت احتمالی برای انتخاب استراتژی مورد قبول یک فرد را میدهند."
   ]
  },
  {
   "cell_type": "markdown",
   "metadata": {
    "id": "JwbSgP0awSBt"
   },
   "source": [
    "برای چک کردن این که یک استراتژی بهترین جواب است  از کد زیر استفاده میکنیم."
   ]
  },
  {
   "cell_type": "code",
   "execution_count": 81,
   "metadata": {
    "colab": {
     "base_uri": "https://localhost:8080/"
    },
    "id": "uikKQJi3wcpe",
    "outputId": "3f6df806-e59b-437b-c82a-c185e577f992"
   },
   "outputs": [
    {
     "name": "stdout",
     "output_type": "stream",
     "text": [
      "(True, True)\n"
     ]
    }
   ],
   "source": [
    "sigma_r = np.array([0, 1, 0])\n",
    "sigma_c = np.array([1, 0, 0])\n",
    "print(rps.is_best_response(sigma_r, sigma_c))"
   ]
  },
  {
   "cell_type": "markdown",
   "metadata": {
    "id": "PzU9sWV9Y8Jg"
   },
   "source": [
    "\n",
    "ابتدا درباره مساله \n",
    "\n",
    "matching pennies \n",
    "\n",
    "تحقیق کنید.\n",
    "اگر بخواهیم چند بار انتخاب استراتژی انجام بگیرد، کدی بنویسید که تکرار عملیات صورت بگیرد\n",
    "تعداد تکرار را برابر 2 رد نظر بگیرید. \n",
    "ماتریس بازی را نمایش دهید."
   ]
  },
  {
   "cell_type": "code",
   "execution_count": 82,
   "metadata": {
    "id": "tKT_O7_GxCE1"
   },
   "outputs": [
    {
     "data": {
      "text/plain": [
       "Zero sum game with payoff matrices:\n",
       "\n",
       "Row player:\n",
       "[[ 2.  2.  2. ...  0. -2. -2.]\n",
       " [ 2.  2.  2. ...  0. -2. -2.]\n",
       " [ 2.  2.  2. ...  0. -2. -2.]\n",
       " ...\n",
       " [ 0.  0.  0. ...  2.  0.  2.]\n",
       " [-2. -2. -2. ...  0.  2.  0.]\n",
       " [-2. -2. -2. ...  2.  0.  2.]]\n",
       "\n",
       "Column player:\n",
       "[[-2. -2. -2. ...  0.  2.  2.]\n",
       " [-2. -2. -2. ...  0.  2.  2.]\n",
       " [-2. -2. -2. ...  0.  2.  2.]\n",
       " ...\n",
       " [ 0.  0.  0. ... -2.  0. -2.]\n",
       " [ 2.  2.  2. ...  0. -2.  0.]\n",
       " [ 2.  2.  2. ... -2.  0. -2.]]"
      ]
     },
     "execution_count": 82,
     "metadata": {},
     "output_type": "execute_result"
    }
   ],
   "source": [
    "import nashpy.repeated_games\n",
    "MP_GameMatrix = np.array([[1, -1], [-1, 1]])\n",
    "MP_Game = nash.Game(MP_GameMatrix)\n",
    "eq_MP = nash.repeated_games.obtain_repeated_game(game=MP_Game, repetitions=2)\n",
    "eq_MP\n",
    "\n",
    "\n"
   ]
  },
  {
   "cell_type": "markdown",
   "metadata": {
    "id": "wlB-xIsTZ41h"
   },
   "source": [
    "حال اگر بخواهیم تعداد تکرار ها را بیشتر کنیم چه؟\n",
    "برای تکرار های بیشتر این روش محاسبات زیادی میخواهد بجایش از روش های لرنینگ استفاده میکنیم.\n"
   ]
  },
  {
   "cell_type": "markdown",
   "metadata": {
    "id": "qlJvhpB7dOj3"
   },
   "source": [
    "در زیر الگوریتم فیکتس\n",
    "\n",
    "game.fictitious_play\n",
    "\n",
    "یکی از روش های لرن کردن میباشد.\n",
    "البته همیشه این الگوریتم همگرا نمیشود "
   ]
  },
  {
   "cell_type": "code",
   "execution_count": 83,
   "metadata": {
    "colab": {
     "base_uri": "https://localhost:8080/"
    },
    "id": "U-ZLtkrPdYYS",
    "outputId": "9542c965-e211-4d0a-bbaf-c0345c01523a"
   },
   "outputs": [
    {
     "name": "stdout",
     "output_type": "stream",
     "text": [
      "[array([5464., 1436., 3100.]), array([2111., 4550., 3339.])]\n"
     ]
    }
   ],
   "source": [
    "A = np.array([[0, 1, 0], [0, 0, 1], [1, 0, 0]])\n",
    "B = np.array([[0, 0, 1], [1, 0, 0], [0, 1, 0]])\n",
    "game = nash.Game(A, B)\n",
    "iterations = 10000\n",
    "np.random.seed(0)\n",
    "play_counts = tuple(game.fictitious_play(iterations=iterations))\n",
    "print(play_counts[-1])\n"
   ]
  },
  {
   "cell_type": "markdown",
   "metadata": {
    "id": "HQYqVk6qOiyP"
   },
   "source": [
    "در مساله فوق اعداد آرایه\n",
    "\n",
    "play_counts \n",
    "\n",
    "باید بر تعداد \n",
    "\n",
    "iteration \n",
    "\n",
    "تقسیم کنید تا احتمال هر استراتژی بدست بیاید و خروجی را نشان دهید.\n",
    "و در نهایت احتمال هر استراتژی را برای بازیکن اول\n",
    "row player\n",
    "را نسبت به  \n",
    "\n",
    ".iterations\n",
    "\n",
    "پلاتد کنید\n",
    "آیا الگوریتمها همگرا میشوند؟ توضیح دهید...\n",
    " \n",
    " \n",
    " \n",
    "شما صرفا باید به روش گفته شده ptobabilities \n",
    "را بصورت مناسب تعریف کنید ..."
   ]
  },
  {
   "cell_type": "code",
   "execution_count": 84,
   "metadata": {
    "colab": {
     "base_uri": "https://localhost:8080/",
     "height": 527
    },
    "id": "OJ2zFz5jdgdi",
    "outputId": "3375c6ab-d9f4-4748-d5b2-a3ce5e646a2c"
   },
   "outputs": [
    {
     "data": {
      "text/plain": [
       "<matplotlib.legend.Legend at 0x23822ac6dc0>"
      ]
     },
     "execution_count": 84,
     "metadata": {},
     "output_type": "execute_result"
    },
    {
     "data": {
      "image/png": "[encoded data removed]",
      "text/plain": [
       "<Figure size 432x288 with 1 Axes>"
      ]
     },
     "metadata": {
      "needs_background": "light"
     },
     "output_type": "display_data"
    }
   ],
   "source": [
    "import matplotlib.pyplot as plt\n",
    "plt.figure() \n",
    "\n",
    "probabilities = [n/iterations for n in play_counts[-1]]\n",
    "\n",
    "for number, strategy in enumerate(zip(*probabilities)):\n",
    "    plt.plot(strategy, label=f\"$s_{number}$\")  \n",
    "\n",
    "    \n",
    "    \n",
    "plt.xlabel(\"Iteration\")  \n",
    "plt.ylabel(\"Probability\")  \n",
    "plt.title(\"Actions taken by row player\")  \n",
    "plt.legend() "
   ]
  },
  {
   "cell_type": "markdown",
   "metadata": {
    "id": "rjibLE4zdww4"
   },
   "source": [
    "این بار برای ماتریس های\n",
    "\n",
    "A , B\n",
    "\n",
    "همان الگوریتم قبلی را تکرار کنید و نشان دهید که این بار برای بازیکن دوم الگوریتم ها همگرا میشوند"
   ]
  },
  {
   "cell_type": "code",
   "execution_count": 85,
   "metadata": {
    "id": "UKSyvVX8d936",
    "scrolled": true
   },
   "outputs": [
    {
     "name": "stdout",
     "output_type": "stream",
     "text": [
      "[array([0.329, 0.332, 0.339]), array([0.3356, 0.3361, 0.3283])]\n"
     ]
    },
    {
     "data": {
      "text/plain": [
       "<matplotlib.legend.Legend at 0x23820d7ed30>"
      ]
     },
     "execution_count": 85,
     "metadata": {},
     "output_type": "execute_result"
    },
    {
     "data": {
      "image/png": "[encoded data removed]",
      "text/plain": [
       "<Figure size 432x288 with 1 Axes>"
      ]
     },
     "metadata": {
      "needs_background": "light"
     },
     "output_type": "display_data"
    }
   ],
   "source": [
    "A = np.array([[1 / 2, 1, 0], [0, 1 / 2, 1], [1, 0, 1 / 2]])\n",
    "B = np.array([[1 / 2, 0, 1], [1, 1 / 2, 0], [0, 1, 1 / 2]])\n",
    "game = nash.Game(A, B)\n",
    "np.random.seed(0)\n",
    "\n",
    "iterations = 10000\n",
    "play_counts2 = tuple(game.fictitious_play(iterations=iterations))\n",
    "\n",
    "plt.figure() \n",
    "probabilities2 = [n/iterations for n in play_counts2[-1]]\n",
    "print(probabilities2)\n",
    "\n",
    "for number, strategy in enumerate(zip(*probabilities2)):\n",
    "    plt.plot(strategy, label=f\"$s_{number}$\")  \n",
    "\n",
    "    \n",
    "    \n",
    "plt.xlabel(\"Iteration\")  \n",
    "plt.ylabel(\"Probability\")  \n",
    "plt.title(\"Actions taken by row player\")\n",
    "plt.ylim(0.25,0.45)\n",
    "plt.legend() "
   ]
  },
  {
   "cell_type": "markdown",
   "metadata": {
    "id": "fNZ6IsGRN60e"
   },
   "source": [
    "حال میخواهیم ببینیم یک بازیکن در گذر زمان چه احتمالی از استراتژی ها را بازی میکند.\n",
    " با استفاده از الگوریتم \n",
    "\n",
    "replicator dynamics\n",
    "\n",
    "برای ماتریس های  هزینه َA,\n",
    "این کار را انجام دهید.\n",
    "( البته پیش از این کار همانند قسمت قبل \n",
    "احتمال هر استراتژی را برای بازیکن اول و دوم پلات بگیرید)"
   ]
  },
  {
   "cell_type": "code",
   "execution_count": 98,
   "metadata": {
    "id": "ZTlgu9jXOJFe"
   },
   "outputs": [
    {
     "name": "stdout",
     "output_type": "stream",
     "text": [
      "[[0.5        0.5       ]\n",
      " [0.49875032 0.50124968]\n",
      " [0.49750377 0.50249623]\n",
      " ...\n",
      " [0.10199196 0.89800804]\n",
      " [0.10189853 0.89810147]\n",
      " [0.10180527 0.89819473]]\n"
     ]
    },
    {
     "data": {
      "image/png": "[encoded data removed]",
      "text/plain": [
       "<Figure size 432x288 with 1 Axes>"
      ]
     },
     "metadata": {
      "needs_background": "light"
     },
     "output_type": "display_data"
    }
   ],
   "source": [
    "import nashpy as nash\n",
    "import numpy as np\n",
    "\n",
    "A = np.array([[3, 2], [4, 2]])\n",
    "B = np.array([[1, 3], [2, 4]])\n",
    "game = nash.Game(A,B)\n",
    "\n",
    "np.random.seed(0)\n",
    "\n",
    "iterations = 10000\n",
    "play_counts3 = tuple(game.fictitious_play(iterations=iterations))\n",
    "\n",
    "plt.figure() \n",
    "probabilities3 = [n/iterations for n in play_counts3[-1]]\n",
    "\n",
    "for number, strategy in enumerate(zip(*probabilities3)):\n",
    "    plt.plot(strategy, label=f\"$s_{number}$\")  \n",
    "\n",
    "    \n",
    "    \n",
    "plt.xlabel(\"Iteration\")  \n",
    "plt.ylabel(\"Probability\")  \n",
    "plt.legend() \n",
    "\n",
    "\n",
    "\n",
    "RD_result = game.replicator_dynamics()\n",
    "print(RD_result)"
   ]
  },
  {
   "cell_type": "markdown",
   "metadata": {
    "id": "nX-soVMtOukH"
   },
   "source": []
  },
  {
   "cell_type": "markdown",
   "metadata": {
    "id": "RbRt0E0xYLNK"
   },
   "source": []
  },
  {
   "cell_type": "code",
   "execution_count": null,
   "metadata": {
    "id": "qWj-0TllPD6F"
   },
   "outputs": [],
   "source": []
  },
  {
   "cell_type": "code",
   "execution_count": null,
   "metadata": {
    "id": "3QqvMEaeYLNK"
   },
   "outputs": [],
   "source": []
  },
  {
   "cell_type": "code",
   "execution_count": null,
   "metadata": {
    "id": "Z8nCRLUTYLNL"
   },
   "outputs": [],
   "source": []
  },
  {
   "cell_type": "markdown",
   "metadata": {
    "id": "cZRicmgbzgJe"
   },
   "source": []
  },
  {
   "cell_type": "markdown",
   "metadata": {
    "id": "DClrKfmDeCbd"
   },
   "source": []
  },
  {
   "cell_type": "markdown",
   "metadata": {
    "id": "0rB-RIcCYLNL"
   },
   "source": []
  },
  {
   "cell_type": "code",
   "execution_count": null,
   "metadata": {
    "id": "Bw9wf8TQYLNM"
   },
   "outputs": [],
   "source": []
  },
  {
   "cell_type": "code",
   "execution_count": null,
   "metadata": {},
   "outputs": [],
   "source": []
  }
 ],
 "metadata": {
  "colab": {
   "provenance": []
  },
  "kernelspec": {
   "display_name": "Python 3",
   "language": "python",
   "name": "python3"
  },
  "language_info": {
   "codemirror_mode": {
    "name": "ipython",
    "version": 3
   },
   "file_extension": ".py",
   "mimetype": "text/x-python",
   "name": "python",
   "nbconvert_exporter": "python",
   "pygments_lexer": "ipython3",
   "version": "3.8.8"
  }
 },
 "nbformat": 4,
 "nbformat_minor": 1
}
